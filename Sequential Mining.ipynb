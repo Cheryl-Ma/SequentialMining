{
 "cells": [
  {
   "cell_type": "markdown",
   "metadata": {},
   "source": [
    "# Wikipedia网页浏览数据的序列模式挖掘示例\n",
    "\n"
   ]
  },
  {
   "cell_type": "markdown",
   "metadata": {},
   "source": [
    "数据来自https://snap.stanford.edu/data/wikispeedia.html 。\n",
    "\n",
    "用户的Wikipedia的页面浏览记录，共51318个序列。\n",
    "序列中的每个事件都是一个Wikipedia的页面浏览。"
   ]
  },
  {
   "cell_type": "code",
   "execution_count": 60,
   "metadata": {},
   "outputs": [
    {
     "data": {
      "text/plain": [
       "[['14th_century',\n",
       "  '15th_century',\n",
       "  '16th_century',\n",
       "  'Pacific_Ocean',\n",
       "  'Atlantic_Ocean',\n",
       "  'Accra',\n",
       "  'Africa',\n",
       "  'Atlantic_slave_trade',\n",
       "  'African_slave_trade'],\n",
       " ['14th_century',\n",
       "  'Europe',\n",
       "  'Africa',\n",
       "  'Atlantic_slave_trade',\n",
       "  'African_slave_trade'],\n",
       " ['14th_century',\n",
       "  'Niger',\n",
       "  'Nigeria',\n",
       "  'British_Empire',\n",
       "  'Slavery',\n",
       "  'Africa',\n",
       "  'Atlantic_slave_trade',\n",
       "  'African_slave_trade']]"
      ]
     },
     "execution_count": 60,
     "metadata": {},
     "output_type": "execute_result"
    }
   ],
   "source": [
    "import csv\n",
    "dataset = []\n",
    "\n",
    "# 数据处理：整理序列数据为算法所需的list of lists的形式\n",
    "for line in csv.reader((row for row in open(\"wikidata/paths_finished.tsv\") if not row.startswith('#')), delimiter='\\t'):\n",
    "    if len(line) == 0:\n",
    "        continue\n",
    "    seq = line[3].split(\";\")\n",
    "    seq = [x for x in seq if x != \"<\"]  # remove back clicks\n",
    "    dataset.append(seq)\n",
    "    \n",
    "len(dataset) # 共51318个序列 \n",
    "len(set(item for sequence in dataset for item in sequence)) # 序列数据中有4169种事件\n",
    "dataset[0:3]"
   ]
  },
  {
   "cell_type": "code",
   "execution_count": 61,
   "metadata": {},
   "outputs": [
    {
     "data": {
      "text/html": [
       "<div>\n",
       "<style scoped>\n",
       "    .dataframe tbody tr th:only-of-type {\n",
       "        vertical-align: middle;\n",
       "    }\n",
       "\n",
       "    .dataframe tbody tr th {\n",
       "        vertical-align: top;\n",
       "    }\n",
       "\n",
       "    .dataframe thead th {\n",
       "        text-align: right;\n",
       "    }\n",
       "</style>\n",
       "<table border=\"1\" class=\"dataframe\">\n",
       "  <thead>\n",
       "    <tr style=\"text-align: right;\">\n",
       "      <th></th>\n",
       "      <th>0</th>\n",
       "    </tr>\n",
       "  </thead>\n",
       "  <tbody>\n",
       "    <tr>\n",
       "      <th>count</th>\n",
       "      <td>51318.000000</td>\n",
       "    </tr>\n",
       "    <tr>\n",
       "      <th>mean</th>\n",
       "      <td>6.356775</td>\n",
       "    </tr>\n",
       "    <tr>\n",
       "      <th>std</th>\n",
       "      <td>3.775778</td>\n",
       "    </tr>\n",
       "    <tr>\n",
       "      <th>min</th>\n",
       "      <td>1.000000</td>\n",
       "    </tr>\n",
       "    <tr>\n",
       "      <th>25%</th>\n",
       "      <td>4.000000</td>\n",
       "    </tr>\n",
       "    <tr>\n",
       "      <th>50%</th>\n",
       "      <td>6.000000</td>\n",
       "    </tr>\n",
       "    <tr>\n",
       "      <th>75%</th>\n",
       "      <td>7.000000</td>\n",
       "    </tr>\n",
       "    <tr>\n",
       "      <th>max</th>\n",
       "      <td>420.000000</td>\n",
       "    </tr>\n",
       "  </tbody>\n",
       "</table>\n",
       "</div>"
      ],
      "text/plain": [
       "                  0\n",
       "count  51318.000000\n",
       "mean       6.356775\n",
       "std        3.775778\n",
       "min        1.000000\n",
       "25%        4.000000\n",
       "50%        6.000000\n",
       "75%        7.000000\n",
       "max      420.000000"
      ]
     },
     "execution_count": 61,
     "metadata": {},
     "output_type": "execute_result"
    }
   ],
   "source": [
    "import pandas as pd\n",
    "seqLen = [len(sequence) for sequence in dataset]\n",
    "seqLend=pd.DataFrame(seqLen)\n",
    "seqLend.describe()      ## 序列长度的平均数、中位数均为6个事件"
   ]
  },
  {
   "cell_type": "markdown",
   "metadata": {},
   "source": [
    "## prefixspan包"
   ]
  },
  {
   "cell_type": "markdown",
   "metadata": {},
   "source": [
    "使用由chuancong gao开发的prefixspan包，见https://pypi.org/project/prefixspan/ 。"
   ]
  },
  {
   "cell_type": "markdown",
   "metadata": {},
   "source": [
    "该package对PrefixSpan算法的核心实现如下："
   ]
  },
  {
   "cell_type": "code",
   "execution_count": 62,
   "metadata": {},
   "outputs": [
    {
     "data": {
      "text/plain": [
       "[(4, []),\n",
       " (2, [0]),\n",
       " (4, [1]),\n",
       " (3, [1, 2]),\n",
       " (2, [1, 2, 2]),\n",
       " (2, [1, 3]),\n",
       " (2, [1, 3, 4]),\n",
       " (2, [1, 4]),\n",
       " (2, [1, 1]),\n",
       " (2, [1, 1, 1]),\n",
       " (3, [2]),\n",
       " (2, [2, 2]),\n",
       " (2, [3]),\n",
       " (2, [3, 4]),\n",
       " (2, [4])]"
      ]
     },
     "execution_count": 62,
     "metadata": {},
     "output_type": "execute_result"
    }
   ],
   "source": [
    "from collections import defaultdict\n",
    "\n",
    "def frequent_rec(patt, mdb):  ##  patt是当前的频繁序列模式（前缀），而mdb是其投影序列的 (id, position) 元组的list。 (id, position) 为 （序列编号，从该序列的第几个位置开始）。\n",
    "    results.append((len(mdb), patt))\n",
    "    occurs = defaultdict(list)  ##  key为元素；value为该元素在每个序列中首次出现的位置，即多个(id, position) 的元组\n",
    "    \n",
    "    for (i, startpos) in mdb:       \n",
    "        seq = db[i]      #  遍历投影数据中的所有序列\n",
    "        for j in range(startpos + 1, len(seq)):       #  遍历投影序列的元素（从前缀出现的位置的后一位开始）\n",
    "            l = occurs[seq[j]]\n",
    "            if len(l) == 0 or l[-1][0] != i:  #  如果一个序列中包含该元素，记录该元素在该序列中首次出现的位置\n",
    "                l.append((i, j))  \n",
    "    \n",
    "    for (c, newmdb) in occurs.items():\n",
    "        if len(newmdb) >= minsup:     # newmdb里有多少个(id, position) 的元组，就代表有多少个序列包含该元素，所以len(newmdb) 为该元素在投影数据中的支持度。\n",
    "            frequent_rec(patt + [c], newmdb) #对上次投影数据中的每个支持度大于等于最小支持度的元素，都再次调用函数构造其投影\n",
    "\n",
    "db = [\n",
    "    [0, 1, 2, 3, 4],\n",
    "    [1, 1, 1, 3, 4],\n",
    "    [2, 1, 2, 2, 0],\n",
    "    [1, 1, 1, 2, 2],\n",
    "]\n",
    "\n",
    "minsup = 2\n",
    "results = []\n",
    "frequent_rec([], [(i, -1) for i in range(len(db))])\n",
    "results"
   ]
  },
  {
   "cell_type": "code",
   "execution_count": 63,
   "metadata": {},
   "outputs": [],
   "source": [
    "\"\"\"\n",
    "该prefixspan包是目前python中序列模式挖掘较为高效的实现。\n",
    "\"\"\"\n",
    "from prefixspan import PrefixSpan "
   ]
  },
  {
   "cell_type": "markdown",
   "metadata": {},
   "source": [
    "#### 1）通过 frequent(minsup) 输出满足最小支持度的序列模式。"
   ]
  },
  {
   "cell_type": "code",
   "execution_count": 64,
   "metadata": {},
   "outputs": [
    {
     "name": "stdout",
     "output_type": "stream",
     "text": [
      "Wall time: 501 ms\n"
     ]
    },
    {
     "data": {
      "text/plain": [
       "[(1297, ['Atlantic_Ocean']),\n",
       " (2738, ['Africa']),\n",
       " (4303, ['Europe']),\n",
       " (1861, ['North_America']),\n",
       " (8675, ['United_States']),\n",
       " (1110, ['China']),\n",
       " (1479, ['Science']),\n",
       " (1074, ['Christianity']),\n",
       " (1216, ['India']),\n",
       " (1588, ['France']),\n",
       " (2267, ['World_War_II']),\n",
       " (3261, ['England']),\n",
       " (1394, ['Periodic_table']),\n",
       " (1414, ['English_language']),\n",
       " (1050, ['United_Nations']),\n",
       " (1568, ['Mammal']),\n",
       " (1182, ['Bird']),\n",
       " (1738, ['Germany']),\n",
       " (3176, ['Earth']),\n",
       " (1666, ['Animal']),\n",
       " (1528, ['Computer']),\n",
       " (1023, ['Internet']),\n",
       " (3807, ['United_Kingdom']),\n",
       " (1007, ['Russia']),\n",
       " (1127, ['Plant']),\n",
       " (1167, ['Asia']),\n",
       " (1604, ['Human']),\n",
       " (1070, ['Japan']),\n",
       " (1316, ['Brain']),\n",
       " (1043, ['Brain', 'Telephone']),\n",
       " (1147, ['Agriculture']),\n",
       " (1034, ['Theatre']),\n",
       " (1041, ['Zebra']),\n",
       " (1171, ['Asteroid']),\n",
       " (1043, ['Asteroid', 'Viking']),\n",
       " (1192, ['Viking']),\n",
       " (1251, ['Telephone'])]"
      ]
     },
     "execution_count": 64,
     "metadata": {},
     "output_type": "execute_result"
    }
   ],
   "source": [
    "#设定支持度为1000\n",
    "%time PrefixSpan(dataset).frequent(1000) # 仅用时570ms，是现有的算法实现中效率最高的"
   ]
  },
  {
   "cell_type": "markdown",
   "metadata": {},
   "source": [
    "#### 2）通过 topk(n) 输出支持度排名前n的序列模式。"
   ]
  },
  {
   "cell_type": "code",
   "execution_count": 65,
   "metadata": {},
   "outputs": [
    {
     "data": {
      "text/plain": [
       "[(8675, ['United_States']),\n",
       " (4303, ['Europe']),\n",
       " (3807, ['United_Kingdom']),\n",
       " (3261, ['England']),\n",
       " (3176, ['Earth'])]"
      ]
     },
     "execution_count": 65,
     "metadata": {},
     "output_type": "execute_result"
    }
   ],
   "source": [
    "psResult = PrefixSpan(dataset)\n",
    "psResult.topk(5) ## 输出支持度排名前5的序列"
   ]
  },
  {
   "cell_type": "markdown",
   "metadata": {},
   "source": [
    "#### 3）通过Filter Function来添加约束，从而产生更有意义的序列模式。\n",
    "\n",
    "*如：设置序列长度的下限；仅返回频繁的闭合序列 等。"
   ]
  },
  {
   "cell_type": "markdown",
   "metadata": {},
   "source": [
    "##### 添加序列模式长度的限制"
   ]
  },
  {
   "cell_type": "code",
   "execution_count": 66,
   "metadata": {},
   "outputs": [
    {
     "data": {
      "text/plain": [
       "[(1043, ['Asteroid', 'Viking']),\n",
       " (1043, ['Brain', 'Telephone']),\n",
       " (905, ['Theatre', 'Zebra']),\n",
       " (642, ['Pyramid', 'Bean']),\n",
       " (591, ['North_America', 'United_States']),\n",
       " (579, ['United_States', 'President_of_the_United_States']),\n",
       " (557, ['Animal', 'Mammal']),\n",
       " (543, ['Communication', 'Telephone']),\n",
       " (535, ['Europe', 'United_Kingdom']),\n",
       " (531, ['Mammal', 'Zebra'])]"
      ]
     },
     "execution_count": 66,
     "metadata": {},
     "output_type": "execute_result"
    }
   ],
   "source": [
    "## 输出长度大于1的序列中，支持度排名前10的\n",
    "psResult.topk(10, filter=lambda patt, matches: len(patt)>1) # patt is the current pattern and matches is the current list of matching sequence (id, position) tuples"
   ]
  },
  {
   "cell_type": "code",
   "execution_count": 67,
   "metadata": {},
   "outputs": [
    {
     "data": {
      "text/plain": [
       "[(285, ['Theatre', 'Africa', 'Lion', 'Zebra']),\n",
       " (271, ['Theatre', 'Animal', 'Mammal', 'Zebra']),\n",
       " (256, ['Brain', 'Computer_science', 'Communication', 'Telephone']),\n",
       " (246, ['Brain', 'Computer_science', 'Information', 'Telephone']),\n",
       " (239, ['Brain', 'Information', 'Communication', 'Telephone']),\n",
       " (226, ['Computer_science', 'Information', 'Communication', 'Telephone']),\n",
       " (225, ['Brain', 'Computer_science', 'Information', 'Communication']),\n",
       " (225,\n",
       "  ['Brain', 'Computer_science', 'Information', 'Communication', 'Telephone']),\n",
       " (208, ['Asteroid', 'Earth', 'Europe', 'Viking']),\n",
       " (197, ['Asteroid', 'Europe', 'Norway', 'Viking'])]"
      ]
     },
     "execution_count": 67,
     "metadata": {},
     "output_type": "execute_result"
    }
   ],
   "source": [
    "## 输出长度大于3的序列中，支持度排名前10的\n",
    "psResult.topk(10, filter=lambda patt, matches: len(patt)>3) "
   ]
  },
  {
   "cell_type": "markdown",
   "metadata": {},
   "source": [
    "*在设定minsup（最小支持度）之前，可以先用有filter的topk函数看一下长度不同的序列的支持度情况，然后再根据需要挖掘出的序列长度来设定最小支持度。"
   ]
  },
  {
   "cell_type": "markdown",
   "metadata": {},
   "source": [
    "##### 增加闭合序列限制\n",
    "*闭合序列：当一个序列的所有超集序列的支持度都小于该序列时，该序列为闭合序列。"
   ]
  },
  {
   "cell_type": "code",
   "execution_count": 68,
   "metadata": {},
   "outputs": [
    {
     "data": {
      "text/plain": [
       "[(285, ['Theatre', 'Africa', 'Lion', 'Zebra']),\n",
       " (271, ['Theatre', 'Animal', 'Mammal', 'Zebra']),\n",
       " (256, ['Brain', 'Computer_science', 'Communication', 'Telephone']),\n",
       " (246, ['Brain', 'Computer_science', 'Information', 'Telephone']),\n",
       " (239, ['Brain', 'Information', 'Communication', 'Telephone']),\n",
       " (226, ['Computer_science', 'Information', 'Communication', 'Telephone']),\n",
       " (225,\n",
       "  ['Brain', 'Computer_science', 'Information', 'Communication', 'Telephone']),\n",
       " (208, ['Asteroid', 'Earth', 'Europe', 'Viking']),\n",
       " (197, ['Asteroid', 'Europe', 'Norway', 'Viking']),\n",
       " (182, ['Brain', 'Computer_science', 'Internet', 'Telephone'])]"
      ]
     },
     "execution_count": 68,
     "metadata": {},
     "output_type": "execute_result"
    }
   ],
   "source": [
    "## 输出长度大于3的序列中，支持度排名前10的闭合序列\n",
    "psResult.topk(10, closed=True,filter=lambda patt, matches: len(patt)>3) \n",
    "\"\"\"\n",
    "相较上面没有加closed=True的结果，增加了闭合序列限制的结果更有意义：\n",
    "如，['Brain', 'Computer_science', 'Information', 'Communication'] 序列\n",
    "和 ['Brain', 'Computer_science', 'Information', 'Communication', 'Telephone'] 序列具有相同的支持度225，\n",
    "增加了closed=True的限制后，仅输出['Brain', 'Computer_science', 'Information', 'Communication', 'Telephone'] \n",
    "\"\"\""
   ]
  },
  {
   "cell_type": "code",
   "execution_count": 76,
   "metadata": {},
   "outputs": [
    {
     "data": {
      "text/plain": [
       "[(226, ['Computer_science', 'Information', 'Communication', 'Telephone']),\n",
       " (225,\n",
       "  ['Brain', 'Computer_science', 'Information', 'Communication', 'Telephone']),\n",
       " (246, ['Brain', 'Computer_science', 'Information', 'Telephone']),\n",
       " (256, ['Brain', 'Computer_science', 'Communication', 'Telephone']),\n",
       " (239, ['Brain', 'Information', 'Communication', 'Telephone']),\n",
       " (271, ['Theatre', 'Animal', 'Mammal', 'Zebra']),\n",
       " (285, ['Theatre', 'Africa', 'Lion', 'Zebra']),\n",
       " (208, ['Asteroid', 'Earth', 'Europe', 'Viking'])]"
      ]
     },
     "execution_count": 76,
     "metadata": {},
     "output_type": "execute_result"
    }
   ],
   "source": [
    "\"\"\"\n",
    "闭合频繁序列：当一个频繁序列的所有超集序列的支持度都小于该频繁序列时，该频繁序列为闭合频繁序列（frequent closed sequence）\n",
    "\"\"\"\n",
    "\n",
    "## 当最小支持度为200时，长度大于3的闭合频繁序列\n",
    "sorted(psResult.frequent(200, closed=True, filter=lambda patt, matches: len(patt)>3) , reverse = True)# 按支持度降序排序输出"
   ]
  }
 ],
 "metadata": {
  "kernelspec": {
   "display_name": "Python 3",
   "language": "python",
   "name": "python3"
  },
  "language_info": {
   "codemirror_mode": {
    "name": "ipython",
    "version": 3
   },
   "file_extension": ".py",
   "mimetype": "text/x-python",
   "name": "python",
   "nbconvert_exporter": "python",
   "pygments_lexer": "ipython3",
   "version": "3.7.6"
  }
 },
 "nbformat": 4,
 "nbformat_minor": 4
}
